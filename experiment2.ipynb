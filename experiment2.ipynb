{
 "cells": [
  {
   "cell_type": "code",
   "execution_count": 1,
   "metadata": {},
   "outputs": [],
   "source": [
    "from unstructured.partition.pdf import partition_pdf\n",
    "import PyPDF2\n",
    "import anthropic\n",
    "import nltk\n",
    "from nltk.stem import WordNetLemmatizer\n",
    "import base64\n",
    "import pickle\n",
    "import os\n",
    "import re"
   ]
  },
  {
   "cell_type": "code",
   "execution_count": 2,
   "metadata": {},
   "outputs": [],
   "source": [
    "os.environ[\"ANTHROPIC_API_KEY\"]  = \"\"\n",
    "\n",
    "client=anthropic.Anthropic()\n",
    "\n",
    "haiku = \"claude-3-haiku-20240307\"\n",
    "sonnet = \"claude-3-sonnet-20240229\""
   ]
  },
  {
   "cell_type": "code",
   "execution_count": 3,
   "metadata": {},
   "outputs": [],
   "source": [
    "os.environ[\"EXTRACT_IMAGE_BLOCK_CROP_HORIZONTAL_PAD\"]='20'\n",
    "os.environ[\"EXTRACT_IMAGE_BLOCK_CROP_VERTICAL_PAD\"]='80'"
   ]
  },
  {
   "cell_type": "code",
   "execution_count": 4,
   "metadata": {},
   "outputs": [],
   "source": [
    "input_company=\"NIKE, Inc.\"\n",
    "input_sector=\"Footwear\"\n",
    "input_pdf=\"NikeAnnualReport.pdf\"\n",
    "input_metric=\"Money from greater china\"\n",
    "input_year=\"2023\""
   ]
  },
  {
   "cell_type": "code",
   "execution_count": 5,
   "metadata": {},
   "outputs": [
    {
     "name": "stderr",
     "output_type": "stream",
     "text": [
      "This function will be deprecated in a future release and `unstructured` will simply use the DEFAULT_MODEL from `unstructured_inference.model.base` to set default model name\n",
      "Some weights of the model checkpoint at microsoft/table-transformer-structure-recognition were not used when initializing TableTransformerForObjectDetection: ['model.backbone.conv_encoder.model.layer2.0.downsample.1.num_batches_tracked', 'model.backbone.conv_encoder.model.layer3.0.downsample.1.num_batches_tracked', 'model.backbone.conv_encoder.model.layer4.0.downsample.1.num_batches_tracked']\n",
      "- This IS expected if you are initializing TableTransformerForObjectDetection from the checkpoint of a model trained on another task or with another architecture (e.g. initializing a BertForSequenceClassification model from a BertForPreTraining model).\n",
      "- This IS NOT expected if you are initializing TableTransformerForObjectDetection from the checkpoint of a model that you expect to be exactly identical (initializing a BertForSequenceClassification model from a BertForSequenceClassification model).\n"
     ]
    }
   ],
   "source": [
    "pdf_elements = partition_pdf(\n",
    "    input_pdf,\n",
    "    chunking_strategy=\"by_title\",\n",
    "    extract_images_in_pdf=False,\n",
    "    infer_table_structure=True,\n",
    "    max_characters=3000,\n",
    "    new_after_n_chars=2800,\n",
    "    combine_text_under_n_chars=2000\n",
    "    )"
   ]
  },
  {
   "cell_type": "code",
   "execution_count": 6,
   "metadata": {},
   "outputs": [],
   "source": [
    "with open(\"nike_pdf_elements.pkl\", \"wb\") as f:\n",
    "    pickle.dump(pdf_elements, f)"
   ]
  },
  {
   "cell_type": "code",
   "execution_count": 7,
   "metadata": {},
   "outputs": [],
   "source": [
    "with open(\"nike_pdf_elements.pkl\", \"rb\") as f:\n",
    "    pdf_elements = pickle.load(f)"
   ]
  },
  {
   "cell_type": "code",
   "execution_count": 8,
   "metadata": {},
   "outputs": [],
   "source": [
    "def categorize_elements(raw_pdf_elements):\n",
    "    text_elements = []\n",
    "    table_elements = []\n",
    "    table_data=[]\n",
    "    for element in raw_pdf_elements:\n",
    "        if 'CompositeElement' in str(type(element)):\n",
    "            text_elements.append(str(element))\n",
    "        elif 'Table' in str(type(element)):\n",
    "            table_elements.append(element)\n",
    "            table_data.append(str(element))\n",
    "    return text_elements, table_elements, table_data\n",
    "\n",
    "texts, tables, tables_text = categorize_elements(pdf_elements)"
   ]
  },
  {
   "cell_type": "code",
   "execution_count": 9,
   "metadata": {},
   "outputs": [],
   "source": [
    "def get_response_haiku(message):\n",
    "    response = client.messages.create(\n",
    "        model=haiku,\n",
    "        max_tokens=1024,\n",
    "        messages=message\n",
    "    )\n",
    "    return response.content[0].text"
   ]
  },
  {
   "cell_type": "code",
   "execution_count": 10,
   "metadata": {},
   "outputs": [],
   "source": [
    "def get_response_sonnet(message):\n",
    "    response = client.messages.create(\n",
    "        model=sonnet,\n",
    "        max_tokens=1024,\n",
    "        messages=message\n",
    "    )\n",
    "    return response.content[0].text"
   ]
  },
  {
   "cell_type": "code",
   "execution_count": 11,
   "metadata": {},
   "outputs": [
    {
     "name": "stdout",
     "output_type": "stream",
     "text": [
      "Greater\n",
      "China\n",
      "Revenue\n",
      "Retail\n",
      "Wholesale\n",
      "['Greater', 'Revenue', 'China', 'Wholesale', 'Retail']\n"
     ]
    }
   ],
   "source": [
    "messages=[\n",
    "{\n",
    "    \"role\": \"user\",\n",
    "    \"content\": [\n",
    "    {\"type\": \"text\", \"text\": f'''You are provided with the following information about a specific metric used by a publicly listed company:\n",
    "\n",
    "    Metric: {input_metric}\n",
    "    Company Name: {input_company}\n",
    "    Sector of the Company: {input_sector}\n",
    "    \n",
    "    This metric or its variations are reported in the company's annual report. Please generate a list of 5 specific keywords to search for in the annual report of {input_company}. These phrases or keywords should capture potential syntactic and semantic variations of the metric name, based on what you know about the company. The keyword can be a service provided by {input_company} that matches with {input_metric} The goal is to find the most relevant sections of the annual report with minimal irrelevant matches. Do not provide me business keywords like sales, units, shipment etc. Provide each keyword on a new line and do not include any special symbols or bullet points in your answer. All keywords should only be one single word and not be more than that. A keyword shouldn't be a concatenation of two words like PhoneSales, TransportRevenue etc. In case the metric itself has a service of the company mentioned, do include it in keywords.'''}\n",
    "    ],\n",
    "}\n",
    "]\n",
    "\n",
    "response=get_response_haiku(messages)\n",
    "\n",
    "print(response)\n",
    "\n",
    "response = response.split('\\n')\n",
    "response = [line for line in response]\n",
    "\n",
    "\n",
    "keywords = set()\n",
    "\n",
    "for word in response:\n",
    "    keywords.add(word.strip())\n",
    "\n",
    "keywords = list(keywords)\n",
    "\n",
    "print(keywords)"
   ]
  },
  {
   "cell_type": "code",
   "execution_count": 12,
   "metadata": {},
   "outputs": [],
   "source": [
    "def preprocess_text(text):\n",
    "    # Lowercase the text\n",
    "    text = text.lower()\n",
    "    \n",
    "    # Remove special characters and digits\n",
    "    text = re.sub(r'[^a-zA-Z\\s]', '', text)\n",
    "    \n",
    "    # Tokenize the text\n",
    "    tokens = nltk.word_tokenize(text)\n",
    "    \n",
    "    # Lemmatize the tokens\n",
    "    lemmatizer = WordNetLemmatizer()\n",
    "    tokens = [lemmatizer.lemmatize(token) for token in tokens]\n",
    "\n",
    "    processed_text = ' '.join(tokens)\n",
    "    \n",
    "    return processed_text"
   ]
  },
  {
   "cell_type": "code",
   "execution_count": 13,
   "metadata": {},
   "outputs": [],
   "source": [
    "presentText=[]\n",
    "\n",
    "for text in texts:\n",
    "    text = preprocess_text(text)\n",
    "    present = False\n",
    "    for keyword in keywords:\n",
    "        keyword=preprocess_text(keyword)\n",
    "        if keyword in text:\n",
    "            present=True\n",
    "            break\n",
    "\n",
    "    if not present:\n",
    "        continue\n",
    "\n",
    "    presentText.append(text)\n",
    "\n",
    "\n",
    "presentTableElement=[]\n",
    "presentTableText=[]\n",
    "\n",
    "for index, text in enumerate(tables_text):\n",
    "    text = preprocess_text(text)\n",
    "    present=False\n",
    "    for keyword in keywords:\n",
    "        keyword=preprocess_text(keyword)\n",
    "        if keyword in text:\n",
    "            present=True\n",
    "            break\n",
    "\n",
    "    if not present:\n",
    "        continue\n",
    "\n",
    "    presentTableElement.append(tables[index])\n",
    "    presentTableText.append(text)"
   ]
  },
  {
   "cell_type": "code",
   "execution_count": 14,
   "metadata": {},
   "outputs": [],
   "source": [
    "def extract_page(page_number, input_pdf=input_pdf, output_pdf=\"page.pdf\"):\n",
    "    with open(input_pdf, 'rb') as file:\n",
    "        reader = PyPDF2.PdfReader(file)\n",
    "        writer = PyPDF2.PdfWriter()\n",
    "\n",
    "        # Extract the page and add it to the writer\n",
    "        page = reader.pages[page_number-1]  # Page numbers start from 0\n",
    "        writer.add_page(page)\n",
    "\n",
    "        # Write the output PDF to a file\n",
    "        with open(output_pdf, 'wb') as output_file:\n",
    "            writer.write(output_file)\n",
    "\n",
    "def encode_image(image_path):\n",
    "  with open(image_path, \"rb\") as image_file:\n",
    "    return base64.b64encode(image_file.read()).decode('utf-8')"
   ]
  },
  {
   "cell_type": "code",
   "execution_count": 15,
   "metadata": {},
   "outputs": [
    {
     "name": "stderr",
     "output_type": "stream",
     "text": [
      "This function will be deprecated in a future release and `unstructured` will simply use the DEFAULT_MODEL from `unstructured_inference.model.base` to set default model name\n"
     ]
    },
    {
     "name": "stdout",
     "output_type": "stream",
     "text": [
      "27\n"
     ]
    },
    {
     "name": "stderr",
     "output_type": "stream",
     "text": [
      "This function will be deprecated in a future release and `unstructured` will simply use the DEFAULT_MODEL from `unstructured_inference.model.base` to set default model name\n"
     ]
    },
    {
     "name": "stdout",
     "output_type": "stream",
     "text": [
      "The table and provided context do not contain any specific numeric information about Money from Greater China. It provides biographical details about NIKE's executive leadership team members and their roles within the company, but no financial data related to Greater China is mentioned.\n"
     ]
    },
    {
     "name": "stderr",
     "output_type": "stream",
     "text": [
      "This function will be deprecated in a future release and `unstructured` will simply use the DEFAULT_MODEL from `unstructured_inference.model.base` to set default model name\n",
      "This function will be deprecated in a future release and `unstructured` will simply use the DEFAULT_MODEL from `unstructured_inference.model.base` to set default model name\n",
      "This function will be deprecated in a future release and `unstructured` will simply use the DEFAULT_MODEL from `unstructured_inference.model.base` to set default model name\n"
     ]
    },
    {
     "name": "stdout",
     "output_type": "stream",
     "text": [
      "The table provides information about NIKE's revenues across different geographical regions and divisions for fiscal years 2023, 2022, and 2021. For the Greater China region, the revenue in fiscal 2023 was $7,248 million, down 4% from $7,547 million in fiscal 2022, and down 13% excluding currency changes compared to fiscal 2021.\n",
      "The table provides information about NIKE's earnings breakdown by geographic regions and business segments for fiscal years 2023, 2022, and 2021. It lists the EBIT values in millions of dollars for Greater China as $2,283 million for fiscal 2023, $2,365 million for fiscal 2022 (a 3% decrease from the previous year), and $3,243 million for fiscal 2021.\n"
     ]
    },
    {
     "name": "stderr",
     "output_type": "stream",
     "text": [
      "This function will be deprecated in a future release and `unstructured` will simply use the DEFAULT_MODEL from `unstructured_inference.model.base` to set default model name\n"
     ]
    },
    {
     "name": "stdout",
     "output_type": "stream",
     "text": [
      "Yes, the table provides numeric information about revenues from Greater China for NIKE, Inc. In fiscal year 2023, Greater China revenues were $7,248 million, down 4% from $7,547 million in fiscal year 2022. The percentage change excluding currency impacts was a 4% increase for fiscal 2023 compared to a 13% decrease in fiscal 2021.\n",
      "The table provides numeric information about EBIT (earnings before interest and taxes) for Nike's Greater China region, which was $2,283 million for fiscal year 2023, a 3% decrease from $2,365 million in fiscal year 2022. The values are reported in millions of dollars for the corresponding fiscal years.\n"
     ]
    },
    {
     "name": "stderr",
     "output_type": "stream",
     "text": [
      "This function will be deprecated in a future release and `unstructured` will simply use the DEFAULT_MODEL from `unstructured_inference.model.base` to set default model name\n",
      "This function will be deprecated in a future release and `unstructured` will simply use the DEFAULT_MODEL from `unstructured_inference.model.base` to set default model name\n"
     ]
    },
    {
     "name": "stdout",
     "output_type": "stream",
     "text": [
      "The table provides revenue figures for NIKE's Greater China region across different categories like Footwear ($5,435 million in Fiscal 2023), Apparel ($1,666 million in Fiscal 2023), and Equipment ($147 million in Fiscal 2023). It also breaks down revenues by sales channels like Wholesale Customers and NIKE Direct, along with Earnings Before Interest and Taxes for Fiscal 2023 ($2,283 million) and comparative figures for prior years.\n"
     ]
    },
    {
     "name": "stderr",
     "output_type": "stream",
     "text": [
      "This function will be deprecated in a future release and `unstructured` will simply use the DEFAULT_MODEL from `unstructured_inference.model.base` to set default model name\n",
      "This function will be deprecated in a future release and `unstructured` will simply use the DEFAULT_MODEL from `unstructured_inference.model.base` to set default model name\n",
      "This function will be deprecated in a future release and `unstructured` will simply use the DEFAULT_MODEL from `unstructured_inference.model.base` to set default model name\n",
      "This function will be deprecated in a future release and `unstructured` will simply use the DEFAULT_MODEL from `unstructured_inference.model.base` to set default model name\n",
      "This function will be deprecated in a future release and `unstructured` will simply use the DEFAULT_MODEL from `unstructured_inference.model.base` to set default model name\n",
      "This function will be deprecated in a future release and `unstructured` will simply use the DEFAULT_MODEL from `unstructured_inference.model.base` to set default model name\n"
     ]
    },
    {
     "name": "stdout",
     "output_type": "stream",
     "text": [
      "The table provides revenue information for Nike, Inc. for the year ended May 31, 2023, broken down by geographic region and distribution channel. It includes a specific revenue figure of $7,248 million for the Greater China region, along with other regional and product category revenue details in millions of dollars.\n",
      "The table provides revenue information for NIKE, Inc. for the year ended May 31, 2022, broken down by geography and product category. For the Greater China region, the revenues are listed as $7,547 million for Footwear ($5,416 million), Apparel ($1,938 million), and Equipment ($193 million).\n"
     ]
    },
    {
     "name": "stderr",
     "output_type": "stream",
     "text": [
      "This function will be deprecated in a future release and `unstructured` will simply use the DEFAULT_MODEL from `unstructured_inference.model.base` to set default model name\n"
     ]
    },
    {
     "name": "stdout",
     "output_type": "stream",
     "text": [
      "The table provides revenue information for NIKE, Inc. for the year ended May 31, 2021, broken down by geography and product category. It shows that the revenue from the Greater China region was $8,290 million for that fiscal year, which includes footwear revenue of $5,748 million, apparel revenue of $2,347 million, and equipment revenue of $195 million.\n"
     ]
    },
    {
     "name": "stderr",
     "output_type": "stream",
     "text": [
      "This function will be deprecated in a future release and `unstructured` will simply use the DEFAULT_MODEL from `unstructured_inference.model.base` to set default model name\n"
     ]
    },
    {
     "name": "stdout",
     "output_type": "stream",
     "text": [
      "The table provides revenue and earnings information for NIKE, Inc. across different geographical regions and business segments for the fiscal years 2021, 2022, and 2023. For the Greater China region, it lists the revenues as $8,290 million in 2021, $7,248 million in 2022, and $7,248 million in 2023. It also shows earnings before interest and taxes for Greater China as $3,243 million in 2021, $2,365 million in 2022, and $2,283 million in 2023.\n"
     ]
    },
    {
     "name": "stderr",
     "output_type": "stream",
     "text": [
      "This function will be deprecated in a future release and `unstructured` will simply use the DEFAULT_MODEL from `unstructured_inference.model.base` to set default model name\n"
     ]
    },
    {
     "name": "stdout",
     "output_type": "stream",
     "text": [
      "The table provides information about accounts receivable, inventories, and property, plant and equipment for NIKE across different geographic regions, including Greater China. For accounts receivable in Greater China, the values are $162 million for 2023 and $406 million for 2022. For inventories, the values are $973 million for 2023 and $1,044 million for 2022. For property, plant and equipment, the value for Greater China is $292 million for 2023 and $303 million for 2022. All values are in millions of dollars.\n"
     ]
    },
    {
     "name": "stderr",
     "output_type": "stream",
     "text": [
      "This function will be deprecated in a future release and `unstructured` will simply use the DEFAULT_MODEL from `unstructured_inference.model.base` to set default model name\n"
     ]
    },
    {
     "name": "stdout",
     "output_type": "stream",
     "text": [
      "The table provides information about Nike's accounts receivable, inventories, and property, plant, and equipment across different geographic regions and divisions for the fiscal years ending on May 31, 2023, and May 31, 2022. For the Greater China region specifically, the accounts receivable values are $162 million for 2023 and $406 million for 2022, the inventory values are $973 million for 2023 and $1,044 million for 2022, and the property, plant, and equipment values are $292 million for 2023 and $303 million for 2022.\n"
     ]
    }
   ],
   "source": [
    "finalPresentTableElement=presentTableElement\n",
    "finalPresentTableText=presentTableText\n",
    "\n",
    "print(len(presentTableElement))\n",
    "\n",
    "for index, i in enumerate(presentTableElement):\n",
    "    filepath=f\"tableImages/{index}\"\n",
    "    table_image=i.metadata.orig_elements[0].metadata.page_number\n",
    "    extract_page(table_image)\n",
    "\n",
    "    pdf_tables = partition_pdf(\n",
    "        \"page.pdf\",\n",
    "        strategy=\"hi_res\",\n",
    "        extract_images_in_pdf=True,\n",
    "        extract_image_block_types=[\"Table\"],\n",
    "        extract_image_block_to_payload=False,\n",
    "        extract_image_block_output_dir=filepath\n",
    "        )\n",
    "\n",
    "    for filename in os.listdir(filepath):\n",
    "        if filename.endswith('.jpg') or filename.endswith('.png'):\n",
    "            image_path = os.path.join(filepath, filename)\n",
    "            base64_image = encode_image(image_path)\n",
    "            \n",
    "            messages = [\n",
    "                    {\n",
    "                        \"role\": \"user\",\n",
    "                        \"content\": [\n",
    "                            {\n",
    "                                \"type\": \"image\",\n",
    "                                \"source\": {\n",
    "                                    \"type\": \"base64\",\n",
    "                                    \"media_type\": \"image/jpeg\",\n",
    "                                    \"data\": base64_image,\n",
    "                                },\n",
    "                            },\n",
    "                            {\n",
    "                                \"type\": \"text\",\n",
    "                                \"text\":  f'''Does the following table give me any specific numeric information about {input_metric}?\n",
    "\n",
    "                                This table and surrounding context has been extracted from the annual report of {input_company}.\n",
    "                                \n",
    "                                If no, then return the text 'no information' in your output.\n",
    "                                \n",
    "                                Else, explain the table to me in very brief in a 50 word paragraph, make sure to use mention all the values mentioned in the table along with what they are, their corresponding years, and their units to explain.\n",
    "                                \n",
    "                                Make sure to not go over the word limit and answer is 'no information' if table doesn't tell us about {input_metric}.'''\n",
    "                            }\n",
    "                        ],\n",
    "                    }\n",
    "                ]\n",
    "\n",
    "            response=get_response_sonnet(messages)\n",
    "\n",
    "            if \"no information\" in response.lower() or \"table does not\" in response .lower() or \"image does not\" in response.lower():\n",
    "                os.remove(image_path)\n",
    "            else:\n",
    "                print(response)\n",
    "\n",
    "    if len(os.listdir(filepath)) == 0:\n",
    "        finalPresentTableElement.remove(i)\n",
    "        del finalPresentTableText[index]\n",
    "        # os.remove(filepath)"
   ]
  },
  {
   "cell_type": "code",
   "execution_count": 16,
   "metadata": {},
   "outputs": [],
   "source": [
    "# base64_image=encode_image(r'test/table-1-1.jpg')\n",
    "\n",
    "# messages = [\n",
    "#             {\n",
    "#                 \"role\": \"user\",\n",
    "#                 \"content\": [\n",
    "#                     {\n",
    "#                         \"type\": \"image\",\n",
    "#                         \"source\": {\n",
    "#                             \"type\": \"base64\",\n",
    "#                             \"media_type\": \"image/jpeg\",\n",
    "#                             \"data\": base64_image,\n",
    "#                         },\n",
    "#                     },\n",
    "#                     {\n",
    "#                         \"type\": \"text\",\n",
    "#                         \"text\":  f'''Does the following table give me any specific numeric information about {input_metric}?\n",
    "\n",
    "#                         This table and surrounding context has been extracted from the annual report of {input_company}.\n",
    "                        \n",
    "#                         If no, then return the text 'no information' in your output.\n",
    "                        \n",
    "#                         Else, explain the table to me in very brief in a 50 word paragraph, make sure to use mention all the values mentioned in the table along with what they are, their corresponding years, and their units to explain.\n",
    "                        \n",
    "#                         Make sure to not go over the word limit and answer is 'no information' if table doesn't tell us about {input_metric}.'''\n",
    "#                     }\n",
    "#                 ],\n",
    "#             }\n",
    "#         ]\n",
    "\n",
    "# response=get_response_sonnet(messages)\n",
    "\n",
    "# print(response)"
   ]
  },
  {
   "cell_type": "code",
   "execution_count": 17,
   "metadata": {},
   "outputs": [
    {
     "name": "stdout",
     "output_type": "stream",
     "text": [
      "Based on the image and the context provided, the metric \"Money from greater china\" for NIKE, Inc. in the year 2023 is $7,248 million.\n",
      "\n",
      "The table shows financial data across different geographical regions for NIKE, Inc. for the \"YEAR ENDED MAY 31, 2023\". One of the columns is labeled \"GREATER CHINA\", which represents the Greater China region. Under the \"TOTAL REVENUES\" row for this column, the value is $7,248 million.\n",
      "\n",
      "Since the question specifically asks for the \"Money from greater china\" metric for NIKE, Inc. in 2023, and this column represents the Greater China region's revenues for NIKE in that year, I can confidently state that $7,248 million is the money from Greater China for the company in 2023 based on the information provided in the image.\n",
      "According to the table in the image, the row labeled \"Greater China\" under the \"Asia Pacific & Latin America\" column shows a revenue of $7,547 million for NIKE, Inc. in the year ended May 31, 2022. Therefore, the money from Greater China for NIKE, Inc. in that period is $7,547 million. The table appears to be breaking down NIKE's revenues by geographic regions and product categories for the fiscal year ended May 31, 2022.\n",
      "The context provided states that the table shows Nike, Inc.'s revenues for the year ended May 31, 2021, broken down by geographic regions and categories like footwear, apparel, equipment, and sales channels (wholesale vs direct to consumer).\n",
      "\n",
      "Under the \"Greater China\" column, the revenue from footwear is listed as $5,748 million, apparel as $2,347 million, and equipment as $195 million.\n",
      "\n",
      "Since the metric asked for is \"Money from greater china\", I would interpret this to mean the total revenue generated from the Greater China region. Based on the table, this would be the sum of the footwear, apparel, and equipment revenues for the Greater China column, which is $8,290 million.\n",
      "\n",
      "Therefore, the information provided indicates that the money from Greater China for Nike, Inc. in the year ended May 31, 2021 was $8,290 million.\n",
      "According to the table in the image, the revenue from the \"Greater China\" region for NIKE, Inc. in the year 2023 is listed as $7,248 million under the \"REVENUES\" section. The context above the table mentions \"YEAR ENDED MAY 31,\" suggesting that these figures represent the company's financial results for the fiscal year ending on May 31, 2023. Therefore, the information provided indicates that the money or revenue from Greater China for NIKE, Inc. in 2023 was $7,248 million.\n",
      "The table in the image shows accounts receivable, inventories, and property, plant and equipment information for NIKE, Inc. across different geographical regions for the years 2023 and 2022.\n",
      "\n",
      "For the metric \"Money from greater china\" in the year 2023, the relevant information is:\n",
      "\n",
      "Accounts Receivable, Net for Greater China in 2023: $162 million\n",
      "Inventories for Greater China in 2023: $973 million\n",
      "Property, Plant and Equipment, Net for Greater China in 2023: $292 million\n",
      "\n",
      "Based on the context and headers provided, the \"Money from greater china\" could refer to any of these three metrics related to the Greater China region. Without additional clarification on what specifically is meant by \"Money from greater china\", I cannot definitively conclude which value represents that metric.\n",
      "Based on the table shown in the image and its context \"The breakdown of Revenues is as follows:\", the money from Greater China for NIKE, Inc. in Fiscal 2023 is $7,248 million. The row for \"Greater China\" shows a revenue value of $7,248 million for Fiscal 2023, which represents the money generated from the Greater China region during that fiscal year.\n",
      "The breakdown of EBIT (Earnings Before Interest and Taxes) is given in the table, with values shown for different geographical regions and divisions of NIKE, Inc. For the region \"Greater China\" in fiscal year 2023, the EBIT value is $2,283 million. Since the metric asked is \"Money from greater china\" and this $2,283 million value corresponds to the Greater China region, I believe this is the information requested about the metric related to money from Greater China for NIKE, Inc. in 2023.\n",
      "Based on the context provided \"The breakdown of Revenues is as follows:\" and the headers in the table, this appears to be a breakdown of revenues for NIKE, Inc. across different geographic regions and business divisions for fiscal years 2023, 2022, and 2021.\n",
      "\n",
      "For the metric \"Money from greater china\" in fiscal year 2023, the value given in the table is $7,248 million under the \"Greater China\" row.\n",
      "\n",
      "Since the table explicitly states these values are revenues broken down by geographic regions, I can confidently state that the $7,248 million figure represents the revenue generated from the Greater China region for NIKE, Inc. in fiscal year 2023.\n",
      "According to the table in the image, the information under the row \"Greater China\" shows $2,283 million for Fiscal 2023. The table appears to be breaking down EBIT (Earnings Before Interest and Taxes) for Nike, Inc. across different geographical regions and divisions. Therefore, the $2,283 million value seems to represent Nike's EBIT from the Greater China region for Fiscal 2023.\n",
      "The context above the table states \"GREATER CHINA\" which suggests the data presented is related to Nike's financial information specifically for the Greater China region.\n",
      "\n",
      "The metric you asked for is \"Money from greater china\".\n",
      "\n",
      "Based on the headers and values in the table, it appears the relevant row is \"TOTAL REVENUES\" which shows a value of $7,248 million for Fiscal 2023.\n",
      "\n",
      "Since this total revenue figure is specifically mentioned under the \"GREATER CHINA\" context, I believe this $7,248 million represents the money or revenue generated by Nike from the Greater China region in Fiscal 2023, which aligns with the metric you requested.\n"
     ]
    }
   ],
   "source": [
    "tableContext=[]\n",
    "\n",
    "for i in os.listdir(\"tableImages\"):\n",
    "    folderPath=os.path.join(\"tableImages\",i)\n",
    "    for j in os.listdir(folderPath):\n",
    "        imagePath=os.path.join(folderPath,j)\n",
    "\n",
    "        base64_image=encode_image(imagePath)\n",
    "\n",
    "        messages = [\n",
    "        {\n",
    "            \"role\": \"user\",\n",
    "            \"content\": [\n",
    "                {\n",
    "                    \"type\": \"image\",\n",
    "                    \"source\": {\n",
    "                        \"type\": \"base64\",\n",
    "                        \"media_type\": \"image/jpeg\",\n",
    "                        \"data\": base64_image,\n",
    "                    },\n",
    "                },\n",
    "                {\n",
    "                    \"type\": \"text\",\n",
    "                    \"text\":  f'''Give me information about the metric mentioned below for the company {input_company} in the year {input_year} on the basis of the following image provided consisting of a table and a context for the table above it.\n",
    "\n",
    "                    Metric: {input_metric}\n",
    "\n",
    "                    Do not assume the values in the table to be information about the metric before first reading what the table is about and what the values are from the context and headers for the table mentioned in the image. (e.g., don't assume all values with a currency symbol to be revenue or sales without it being explicitly mentioned in the table). Return 'no information' instead of assuming any values.\n",
    "                    \n",
    "                    If the data for what is asked for is not present, just simply say 'no information'.\n",
    "\n",
    "                    If the context given about the table is not related to Metric and something else that is similar, make no assumptions and return 'no infirmation'.\n",
    "                    \n",
    "                    If the information is present, then only return what is asked for along with the numerical value and why you think it is the metric we asked.'''\n",
    "                }\n",
    "            ],\n",
    "        }\n",
    "        ]\n",
    "\n",
    "        response=get_response_sonnet(messages)\n",
    "\n",
    "        if \"no information\" in response.lower() or \"no numerical information\" in response.lower() or \"no direct information\" in response.lower() or \"is not directly\" in response.lower() or \"does not explicitly\" in response.lower():\n",
    "            continue\n",
    "\n",
    "        print(response)\n",
    "\n",
    "        tableContext.append(response)\n",
    "        "
   ]
  },
  {
   "cell_type": "code",
   "execution_count": 18,
   "metadata": {},
   "outputs": [
    {
     "name": "stdout",
     "output_type": "stream",
     "text": [
      "$7,248 million\n"
     ]
    }
   ],
   "source": [
    "context=tableContext+presentText\n",
    "context=\" \".join(context)\n",
    "\n",
    "messages = [\n",
    "        {\n",
    "            \"role\": \"user\",\n",
    "            \"content\": [\n",
    "                {\n",
    "                    \"type\": \"text\",\n",
    "                    \"text\":  f'''Give me numerical information about {input_metric} for the company {input_company} in the year {input_year} on the basis of the following context from their annual report:-\n",
    "                    \n",
    "                    Context: {context}\n",
    "                    \n",
    "                    Only give me the numeric information about what is asked and do not return anything extra. Make sure your answer is a value that is mentioned in the above context and also includes the unit of the value. In case their are two values that give us the required information, give me the one that also matches the unit I have mentioned.'''\n",
    "                }\n",
    "            ],\n",
    "        }\n",
    "    ]\n",
    "\n",
    "operatingMetric=get_response_sonnet(messages)\n",
    "\n",
    "print(operatingMetric)"
   ]
  }
 ],
 "metadata": {
  "kernelspec": {
   "display_name": "byndTwo",
   "language": "python",
   "name": "python3"
  },
  "language_info": {
   "codemirror_mode": {
    "name": "ipython",
    "version": 3
   },
   "file_extension": ".py",
   "mimetype": "text/x-python",
   "name": "python",
   "nbconvert_exporter": "python",
   "pygments_lexer": "ipython3",
   "version": "3.9.19"
  }
 },
 "nbformat": 4,
 "nbformat_minor": 2
}
